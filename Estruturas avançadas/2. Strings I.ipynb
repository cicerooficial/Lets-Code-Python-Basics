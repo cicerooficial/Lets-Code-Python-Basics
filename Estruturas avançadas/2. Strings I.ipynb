{
 "cells": [
  {
   "cell_type": "markdown",
   "metadata": {},
   "source": [
    "# Strings"
   ]
  },
  {
   "cell_type": "code",
   "execution_count": 2,
   "metadata": {},
   "outputs": [
    {
     "name": "stdout",
     "output_type": "stream",
     "text": [
      "Google\n"
     ]
    }
   ],
   "source": [
    "empresa = 'Google'\n",
    "print(empresa)"
   ]
  },
  {
   "cell_type": "code",
   "execution_count": 4,
   "metadata": {},
   "outputs": [
    {
     "name": "stdout",
     "output_type": "stream",
     "text": [
      "Google\n"
     ]
    }
   ],
   "source": [
    "empresa = \"Google\"\n",
    "print(empresa)"
   ]
  },
  {
   "cell_type": "code",
   "execution_count": 6,
   "metadata": {},
   "outputs": [
    {
     "ename": "SyntaxError",
     "evalue": "invalid syntax (<ipython-input-6-43c6deb3f727>, line 1)",
     "output_type": "error",
     "traceback": [
      "\u001b[1;36m  File \u001b[1;32m\"<ipython-input-6-43c6deb3f727>\"\u001b[1;36m, line \u001b[1;32m1\u001b[0m\n\u001b[1;33m    empresa = 'Let's Code'\u001b[0m\n\u001b[1;37m                   ^\u001b[0m\n\u001b[1;31mSyntaxError\u001b[0m\u001b[1;31m:\u001b[0m invalid syntax\n"
     ]
    }
   ],
   "source": [
    "empresa = 'Let's Code'"
   ]
  },
  {
   "cell_type": "code",
   "execution_count": 8,
   "metadata": {},
   "outputs": [
    {
     "name": "stdout",
     "output_type": "stream",
     "text": [
      "Let's Code\n"
     ]
    }
   ],
   "source": [
    "empresa = \"Let's Code\"\n",
    "print(empresa)"
   ]
  },
  {
   "cell_type": "code",
   "execution_count": 10,
   "metadata": {},
   "outputs": [
    {
     "ename": "SyntaxError",
     "evalue": "invalid syntax (<ipython-input-10-59d151bbe373>, line 1)",
     "output_type": "error",
     "traceback": [
      "\u001b[1;36m  File \u001b[1;32m\"<ipython-input-10-59d151bbe373>\"\u001b[1;36m, line \u001b[1;32m1\u001b[0m\n\u001b[1;33m    frase = \"O professo Pietro da Let's Code disse: \"Hoje a pizza é por minha conta\" \"\u001b[0m\n\u001b[1;37m                                                     ^\u001b[0m\n\u001b[1;31mSyntaxError\u001b[0m\u001b[1;31m:\u001b[0m invalid syntax\n"
     ]
    }
   ],
   "source": [
    "frase = \"O professo Pietro da Let's Code disse: \"Hoje a pizza é por minha conta\" \""
   ]
  },
  {
   "cell_type": "code",
   "execution_count": 14,
   "metadata": {},
   "outputs": [],
   "source": [
    "frase = \"O professo Pietro da Let's Code disse: \\\"Hoje a pizza é por minha conta\\\" \""
   ]
  },
  {
   "cell_type": "code",
   "execution_count": 16,
   "metadata": {},
   "outputs": [
    {
     "name": "stdout",
     "output_type": "stream",
     "text": [
      "G\n"
     ]
    }
   ],
   "source": [
    "empresa = 'Google'\n",
    "print(empresa[0])"
   ]
  },
  {
   "cell_type": "code",
   "execution_count": 18,
   "metadata": {},
   "outputs": [
    {
     "name": "stdout",
     "output_type": "stream",
     "text": [
      "Goo\n"
     ]
    }
   ],
   "source": [
    "print(empresa[:3])"
   ]
  },
  {
   "cell_type": "code",
   "execution_count": 28,
   "metadata": {},
   "outputs": [],
   "source": [
    " nomes_cidades = \"São Paulo, Belo Horizonte, Rio de janeiro, Brasília\""
   ]
  },
  {
   "cell_type": "code",
   "execution_count": 29,
   "metadata": {},
   "outputs": [
    {
     "name": "stdout",
     "output_type": "stream",
     "text": [
      "['São Paulo', 'Belo Horizonte', 'Rio de janeiro', 'Brasília']\n"
     ]
    }
   ],
   "source": [
    "nomes_cidades = nomes_cidades.split(', ')\n",
    "print(nomes_cidades)"
   ]
  },
  {
   "cell_type": "code",
   "execution_count": 32,
   "metadata": {},
   "outputs": [
    {
     "name": "stdout",
     "output_type": "stream",
     "text": [
      "MENU PRINCIPAL\n"
     ]
    }
   ],
   "source": [
    "cabecalho = \"                    MENU PRINCIPAL               \"\n",
    "print(cabecalho.strip())"
   ]
  },
  {
   "cell_type": "code",
   "execution_count": 34,
   "metadata": {},
   "outputs": [
    {
     "name": "stdout",
     "output_type": "stream",
     "text": [
      "Rio De Janeiro\n",
      "Rio de janeiro\n",
      "rio de janeiro\n",
      "RIO DE JANEIRO\n"
     ]
    }
   ],
   "source": [
    "nome_cidade = 'rIo DE jaNeirO'\n",
    "print(nome_cidade.title())\n",
    "print(nome_cidade.capitalize())\n",
    "print(nome_cidade.lower())\n",
    "print(nome_cidade.upper())"
   ]
  },
  {
   "cell_type": "code",
   "execution_count": 37,
   "metadata": {},
   "outputs": [
    {
     "ename": "KeyboardInterrupt",
     "evalue": "Interrupted by user",
     "output_type": "error",
     "traceback": [
      "\u001b[1;31m---------------------------------------------------------------------------\u001b[0m",
      "\u001b[1;31mKeyboardInterrupt\u001b[0m                         Traceback (most recent call last)",
      "\u001b[1;32m<ipython-input-37-169f75c818f6>\u001b[0m in \u001b[0;36m<module>\u001b[1;34m\u001b[0m\n\u001b[1;32m----> 1\u001b[1;33m \u001b[0mnome_cidade\u001b[0m \u001b[1;33m=\u001b[0m \u001b[0minput\u001b[0m\u001b[1;33m(\u001b[0m\u001b[1;34m'Qual cidade do Brasil é conhecida como cidade maravilhosa? '\u001b[0m\u001b[1;33m)\u001b[0m\u001b[1;33m\u001b[0m\u001b[1;33m\u001b[0m\u001b[0m\n\u001b[0m\u001b[0;32m      2\u001b[0m \u001b[0mnome_cidade\u001b[0m \u001b[1;33m=\u001b[0m \u001b[0mnome_cidade\u001b[0m\u001b[1;33m.\u001b[0m\u001b[0mstrip\u001b[0m\u001b[1;33m(\u001b[0m\u001b[1;33m)\u001b[0m\u001b[1;33m\u001b[0m\u001b[1;33m\u001b[0m\u001b[0m\n\u001b[0;32m      3\u001b[0m \u001b[1;32mwhile\u001b[0m \u001b[0mnome_cidade\u001b[0m\u001b[1;33m.\u001b[0m\u001b[0mlower\u001b[0m\u001b[1;33m(\u001b[0m\u001b[1;33m)\u001b[0m \u001b[1;33m!=\u001b[0m \u001b[1;34m'rio de janeiro'\u001b[0m\u001b[1;33m:\u001b[0m\u001b[1;33m\u001b[0m\u001b[1;33m\u001b[0m\u001b[0m\n\u001b[0;32m      4\u001b[0m     \u001b[0mprint\u001b[0m\u001b[1;33m(\u001b[0m\u001b[1;34m'Tente novamente!'\u001b[0m\u001b[1;33m)\u001b[0m\u001b[1;33m\u001b[0m\u001b[1;33m\u001b[0m\u001b[0m\n\u001b[0;32m      5\u001b[0m     \u001b[0mnome_cidade\u001b[0m \u001b[1;33m=\u001b[0m \u001b[0minput\u001b[0m\u001b[1;33m(\u001b[0m\u001b[1;34m'Que cidade do Brasil é conhecida como cidade maravilhosa? '\u001b[0m\u001b[1;33m)\u001b[0m\u001b[1;33m\u001b[0m\u001b[1;33m\u001b[0m\u001b[0m\n",
      "\u001b[1;32mC:\\ProgramData\\Anaconda3\\lib\\site-packages\\ipykernel\\kernelbase.py\u001b[0m in \u001b[0;36mraw_input\u001b[1;34m(self, prompt)\u001b[0m\n\u001b[0;32m    858\u001b[0m                 \u001b[1;34m\"raw_input was called, but this frontend does not support input requests.\"\u001b[0m\u001b[1;33m\u001b[0m\u001b[1;33m\u001b[0m\u001b[0m\n\u001b[0;32m    859\u001b[0m             )\n\u001b[1;32m--> 860\u001b[1;33m         return self._input_request(str(prompt),\n\u001b[0m\u001b[0;32m    861\u001b[0m             \u001b[0mself\u001b[0m\u001b[1;33m.\u001b[0m\u001b[0m_parent_ident\u001b[0m\u001b[1;33m,\u001b[0m\u001b[1;33m\u001b[0m\u001b[1;33m\u001b[0m\u001b[0m\n\u001b[0;32m    862\u001b[0m             \u001b[0mself\u001b[0m\u001b[1;33m.\u001b[0m\u001b[0m_parent_header\u001b[0m\u001b[1;33m,\u001b[0m\u001b[1;33m\u001b[0m\u001b[1;33m\u001b[0m\u001b[0m\n",
      "\u001b[1;32mC:\\ProgramData\\Anaconda3\\lib\\site-packages\\ipykernel\\kernelbase.py\u001b[0m in \u001b[0;36m_input_request\u001b[1;34m(self, prompt, ident, parent, password)\u001b[0m\n\u001b[0;32m    902\u001b[0m             \u001b[1;32mexcept\u001b[0m \u001b[0mKeyboardInterrupt\u001b[0m\u001b[1;33m:\u001b[0m\u001b[1;33m\u001b[0m\u001b[1;33m\u001b[0m\u001b[0m\n\u001b[0;32m    903\u001b[0m                 \u001b[1;31m# re-raise KeyboardInterrupt, to truncate traceback\u001b[0m\u001b[1;33m\u001b[0m\u001b[1;33m\u001b[0m\u001b[1;33m\u001b[0m\u001b[0m\n\u001b[1;32m--> 904\u001b[1;33m                 \u001b[1;32mraise\u001b[0m \u001b[0mKeyboardInterrupt\u001b[0m\u001b[1;33m(\u001b[0m\u001b[1;34m\"Interrupted by user\"\u001b[0m\u001b[1;33m)\u001b[0m \u001b[1;32mfrom\u001b[0m \u001b[1;32mNone\u001b[0m\u001b[1;33m\u001b[0m\u001b[1;33m\u001b[0m\u001b[0m\n\u001b[0m\u001b[0;32m    905\u001b[0m             \u001b[1;32mexcept\u001b[0m \u001b[0mException\u001b[0m \u001b[1;32mas\u001b[0m \u001b[0me\u001b[0m\u001b[1;33m:\u001b[0m\u001b[1;33m\u001b[0m\u001b[1;33m\u001b[0m\u001b[0m\n\u001b[0;32m    906\u001b[0m                 \u001b[0mself\u001b[0m\u001b[1;33m.\u001b[0m\u001b[0mlog\u001b[0m\u001b[1;33m.\u001b[0m\u001b[0mwarning\u001b[0m\u001b[1;33m(\u001b[0m\u001b[1;34m\"Invalid Message:\"\u001b[0m\u001b[1;33m,\u001b[0m \u001b[0mexc_info\u001b[0m\u001b[1;33m=\u001b[0m\u001b[1;32mTrue\u001b[0m\u001b[1;33m)\u001b[0m\u001b[1;33m\u001b[0m\u001b[1;33m\u001b[0m\u001b[0m\n",
      "\u001b[1;31mKeyboardInterrupt\u001b[0m: Interrupted by user"
     ]
    },
    {
     "name": "stdout",
     "output_type": "stream",
     "text": [
      "Qual cidade do Brasil é conhecida como cidade maravilhosa? exit\n"
     ]
    }
   ],
   "source": [
    "nome_cidade = input('Qual cidade do Brasil é conhecida como cidade maravilhosa? ')\n",
    "nome_cidade = nome_cidade.strip()\n",
    "while nome_cidade.lower() != 'rio de janeiro':\n",
    "    print('Tente novamente!')\n",
    "    nome_cidade = input('Que cidade do Brasil é conhecida como cidade maravilhosa? ')\n",
    "    \n",
    "print('Acertou!')"
   ]
  },
  {
   "cell_type": "code",
   "execution_count": 42,
   "metadata": {},
   "outputs": [
    {
     "name": "stdout",
     "output_type": "stream",
     "text": [
      "True\n"
     ]
    }
   ],
   "source": [
    "mensagem = 'Você viu o que Pietro disse na sala ontem? '\n",
    "fui_citado = 'Pietro' in mensagem\n",
    "print(fui_citado)"
   ]
  },
  {
   "cell_type": "markdown",
   "metadata": {},
   "source": [
    "# Exercícios"
   ]
  },
  {
   "cell_type": "code",
   "execution_count": null,
   "metadata": {},
   "outputs": [],
   "source": [
    "# Suponhamos que temos a seguinte string:\n",
    "\n",
    "frase = 'uma FRASE'\n",
    "\n",
    "# Podemos acessar individualmente cada caractere em uma frase.\n",
    "# A ideia é a mesma de acessar uma lista:\n",
    "print(frase[0])\n",
    "print(frase[1])\n",
    "print(frase[2])\n",
    "\n",
    "tamanho = len(frase)\n",
    "print(\"A frase possui\", tamanho, \"caracteres\")\n",
    "\n",
    "# Porém, strings são imutáveis: não podemos alterar caracteres individuais\n",
    "# A linha abaixo, se for descomentada, dará erro no programa:\n",
    "# frase[4] = 'C'\n",
    "\n",
    "# Podemos converter strings para listas:\n",
    "listafrase = list(frase)\n",
    "print(listafrase)\n",
    "\n",
    "# A função join() intercala cada elemento de uma lista com uma string.\n",
    "stringfinal = '-py'.join(listafrase)\n",
    "print(stringfinal)\n",
    "\n",
    "# Usar um join() com uma string vazia é útil para transformar a lista de volta\n",
    "# em string:\n",
    "stringfinal = ''.join(listafrase)\n",
    "print(stringfinal)\n",
    "\n",
    "# Existem algumas funções interessantes que retornam a string \"tratada\":\n",
    "s1 = frase.capitalize() # 1a letra maiúscula, restante minúscula\n",
    "s2 = frase.title() # todo início de palavra em maiúscula, resto minúscula\n",
    "s3 = frase.upper() # string inteira em maiúscula\n",
    "s4 = frase.lower() # string inteira em minúscula\n",
    "s5 = frase.replace('F', 'C') # substitui a primeira substring pela segunda\n",
    "\n",
    "print(s1)\n",
    "print(s2)\n",
    "print(s3)\n",
    "print(s4)\n",
    "print(s5)\n",
    "# Note que NENHUMA delas ALTERA a string original, elas sempre retornam\n",
    "# a string nova.\n",
    "print('String original:', frase)\n",
    "\n",
    "# Outra possibilidade com strings é quebrar a string em uma lista de substrings\n",
    "# Sempre que o caractere especificado é encontrado, a string é quebrada\n",
    "quebra1 = frase.split(' ') # quebra a frase no caractere espaço em branco\n",
    "quebra2 = s3.split('A') # quebra a frase em maiúsculas no caractere 'A'\n",
    "\n",
    "print(quebra1)\n",
    "print(quebra2)\n",
    "\n",
    "# Podemos inserir quebras de linha com '\\n'\n",
    "frase = 'uma\\nFRASE'\n",
    "print(frase)\n",
    "# Podemos inserir tabulação com '\\t'\n",
    "frase = 'uma\\n\\tFRASE'\n",
    "print(frase)\n",
    "# Para conseguir representar a barra '\\', precisamos de 2 barras:\n",
    "frase = 'uma\\\\FRASE'"
   ]
  }
 ],
 "metadata": {
  "kernelspec": {
   "display_name": "Python 3",
   "language": "python",
   "name": "python3"
  },
  "language_info": {
   "codemirror_mode": {
    "name": "ipython",
    "version": 3
   },
   "file_extension": ".py",
   "mimetype": "text/x-python",
   "name": "python",
   "nbconvert_exporter": "python",
   "pygments_lexer": "ipython3",
   "version": "3.8.5"
  }
 },
 "nbformat": 4,
 "nbformat_minor": 4
}

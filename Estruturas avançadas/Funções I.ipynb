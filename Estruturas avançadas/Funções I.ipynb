{
 "cells": [
  {
   "cell_type": "code",
   "execution_count": 1,
   "metadata": {},
   "outputs": [],
   "source": [
    "def hello():\n",
    "    print('Olá, mundo!')"
   ]
  },
  {
   "cell_type": "code",
   "execution_count": 2,
   "metadata": {},
   "outputs": [
    {
     "name": "stdout",
     "output_type": "stream",
     "text": [
      "Olá, mundo!\n"
     ]
    }
   ],
   "source": [
    "hello()"
   ]
  },
  {
   "cell_type": "code",
   "execution_count": 12,
   "metadata": {},
   "outputs": [],
   "source": [
    "def calcula_media(valor1,valor2,valor3):\n",
    "    soma = (valor1 + valor2 + valor3)\n",
    "    media = soma / 3\n",
    "    return print(f' A media é: {media}')"
   ]
  },
  {
   "cell_type": "code",
   "execution_count": 13,
   "metadata": {},
   "outputs": [
    {
     "name": "stdout",
     "output_type": "stream",
     "text": [
      " A media é: 5.666666666666667\n"
     ]
    }
   ],
   "source": [
    "calcula_media(5,5,7)"
   ]
  },
  {
   "cell_type": "code",
   "execution_count": 14,
   "metadata": {},
   "outputs": [
    {
     "name": "stdout",
     "output_type": "stream",
     "text": [
      " A media é: 9.333333333333334\n"
     ]
    }
   ],
   "source": [
    "resultado2 = calcula_media(valor1=9,valor2=10, valor3=9)"
   ]
  },
  {
   "cell_type": "code",
   "execution_count": 15,
   "metadata": {},
   "outputs": [
    {
     "name": "stdout",
     "output_type": "stream",
     "text": [
      "Olá\n",
      ", mundo\n"
     ]
    }
   ],
   "source": [
    "print('Olá')\n",
    "print(', mundo')"
   ]
  },
  {
   "cell_type": "code",
   "execution_count": 16,
   "metadata": {},
   "outputs": [
    {
     "name": "stdout",
     "output_type": "stream",
     "text": [
      "Olá , mundo\n"
     ]
    }
   ],
   "source": [
    "print('Olá', end=' ')\n",
    "print(', mundo')"
   ]
  },
  {
   "cell_type": "code",
   "execution_count": 27,
   "metadata": {},
   "outputs": [],
   "source": [
    "def calcula_media(valor1=0,valor2=0,valor3=0):\n",
    "    soma = (valor1 + valor2 + valor3)\n",
    "    media = soma / 3\n",
    "    return media"
   ]
  },
  {
   "cell_type": "code",
   "execution_count": 28,
   "metadata": {},
   "outputs": [
    {
     "name": "stdout",
     "output_type": "stream",
     "text": [
      "0.0\n"
     ]
    }
   ],
   "source": [
    "resultado = calcula_media()\n",
    "print(resultado)"
   ]
  },
  {
   "cell_type": "markdown",
   "metadata": {},
   "source": [
    "# Exercícios"
   ]
  },
  {
   "cell_type": "code",
   "execution_count": 31,
   "metadata": {},
   "outputs": [
    {
     "name": "stdout",
     "output_type": "stream",
     "text": [
      "A soma dos elementos da lista vale:  15\n",
      "Que soma pequena!\n"
     ]
    }
   ],
   "source": [
    "#Funções\n",
    "'''\n",
    "Funções são uma espécie de \"subprograma\". Elas são como pequenos pedacinhos de programa que podem ser chamadas pelo nome.\n",
    "Para criar uma função usamos o comando \"def\" e o nome da função.\n",
    "Elas são um bloco de comando assim como if/elif/else,while e for.\n",
    "'''\n",
    "\n",
    "#Funções com resposta\n",
    "'''\n",
    "Uma função pode ter uma \"resposta\". Por exemplo, nossa função pode ser uma conta,\n",
    "e o resultado da conta pode ser útil em nosso programa. Dizemos que essas funções \"retornam\" um valor.\n",
    "Utilizamos a palavra \"return\" para fazer uma função retornar sua resposta. Quando uma função retorna um valor,\n",
    "ela pode ser usada em expressões matemáticas ou lógicas, ter seu valor atribuído a uma variável, etc.\n",
    "'''\n",
    "\n",
    "def somatorio(lista):\n",
    "    soma = 0\n",
    "    for item in lista:\n",
    "        soma += item\n",
    "    return soma\n",
    "\n",
    "numeros = [1,2,3,4,5]\n",
    "soma_dos_numeros = somatorio(numeros)\n",
    "print('A soma dos elementos da lista vale: ', soma_dos_numeros)\n",
    "\n",
    "if somatorio(numeros) > 50:\n",
    "    print('Que soma grande!')\n",
    "else:\n",
    "    print('Que soma pequena!')"
   ]
  },
  {
   "cell_type": "code",
   "execution_count": 41,
   "metadata": {},
   "outputs": [
    {
     "name": "stdout",
     "output_type": "stream",
     "text": [
      "testando a função recursiva: \n",
      "1\n",
      "2\n",
      "3\n",
      "4\n",
      "5\n",
      "6\n",
      "7\n",
      "8\n",
      "9\n",
      "10\n"
     ]
    },
    {
     "data": {
      "text/plain": [
       "'\\nNote que no exemplo acima passamos 10 para a função.\\nSua execução foi interrompida por uma nova chamada passando 9, depois 8, depois 7...\\nAo chegar em 1, ele foge da condicional e imprime 1, encerrando a execução.\\nEntão a instância que recebeu 2 tambem conclui sua execução, depois a chamada 3, a 4...\\nA 10, que foi a 1a chamada, encerra por último.\\n\\nDizemos que é um comportamento de pilha - exatamente como uma pilha de pratos sobre a mesa:\\nO primeiro prato que foi colocado sobre a mesa será o último a sair,\\npois todos os pratos colocados sobre ele precisam ser retirados antes de você poder retirar o último.\\n\\nProblemas recursivos normalmente são problemas do tipo \"dividir para conquistar\":\\nTemos um \"caso base\", ou seja, um ou mais casos onde há uma resposta direta;\\nE temos um \"caso geral\", que é uma versão reduzida do problema original.\\n'"
      ]
     },
     "execution_count": 41,
     "metadata": {},
     "output_type": "execute_result"
    }
   ],
   "source": [
    "#Funções recursivas\n",
    "'''\n",
    "Algumas funções são chamadas funções recursivas.\n",
    "A recursividade (ou recursão) é uma propriedade na qual uma função faz referência a si mesma.\n",
    "Quando a função encontra uma nova referência, ela irá pausar sua execução atual e iniciar a execução da nova instância,\n",
    "para só então retomar sua execução.\n",
    "\n",
    "Assim como nos loops, é necessário ter alguma condição para que as chamadas recursivas sejam interrompidas,\n",
    "evitando que executem para sempre.\n",
    "'''\n",
    "def funcaoRecursiva(numero):\n",
    "    if(numero != 1):\n",
    "        funcaoRecursiva(numero - 1)\n",
    "    print(numero)\n",
    "    \n",
    "print('testando a função recursiva: ')\n",
    "\n",
    "funcaoRecursiva(10)\n",
    "'''\n",
    "Note que no exemplo acima passamos 10 para a função.\n",
    "Sua execução foi interrompida por uma nova chamada passando 9, depois 8, depois 7...\n",
    "Ao chegar em 1, ele foge da condicional e imprime 1, encerrando a execução.\n",
    "Então a instância que recebeu 2 tambem conclui sua execução, depois a chamada 3, a 4...\n",
    "A 10, que foi a 1a chamada, encerra por último.\n",
    "\n",
    "Dizemos que é um comportamento de pilha - exatamente como uma pilha de pratos sobre a mesa:\n",
    "O primeiro prato que foi colocado sobre a mesa será o último a sair,\n",
    "pois todos os pratos colocados sobre ele precisam ser retirados antes de você poder retirar o último.\n",
    "\n",
    "Problemas recursivos normalmente são problemas do tipo \"dividir para conquistar\":\n",
    "Temos um \"caso base\", ou seja, um ou mais casos onde há uma resposta direta;\n",
    "E temos um \"caso geral\", que é uma versão reduzida do problema original.\n",
    "'''"
   ]
  }
 ],
 "metadata": {
  "kernelspec": {
   "display_name": "Python 3",
   "language": "python",
   "name": "python3"
  },
  "language_info": {
   "codemirror_mode": {
    "name": "ipython",
    "version": 3
   },
   "file_extension": ".py",
   "mimetype": "text/x-python",
   "name": "python",
   "nbconvert_exporter": "python",
   "pygments_lexer": "ipython3",
   "version": "3.8.5"
  }
 },
 "nbformat": 4,
 "nbformat_minor": 4
}

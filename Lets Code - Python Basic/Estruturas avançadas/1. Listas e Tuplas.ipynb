{
 "cells": [
  {
   "cell_type": "markdown",
   "metadata": {},
   "source": [
    "# Listas"
   ]
  },
  {
   "cell_type": "code",
   "execution_count": 37,
   "metadata": {},
   "outputs": [
    {
     "name": "stdout",
     "output_type": "stream",
     "text": [
      "['Brasil', 'Argentina', 'China', 'Canadá', 'Japão']\n"
     ]
    }
   ],
   "source": [
    "nomes_paises = ['Brasil', 'Argentina', 'China', 'Canadá', 'Japão']\n",
    "print(nomes_paises)"
   ]
  },
  {
   "cell_type": "code",
   "execution_count": 7,
   "metadata": {},
   "outputs": [
    {
     "name": "stdout",
     "output_type": "stream",
     "text": [
      "Tamanho da lista:  5\n"
     ]
    }
   ],
   "source": [
    "print('Tamanho da lista: ', len(nomes_paises)) #Tamanho de uma lista "
   ]
  },
  {
   "cell_type": "code",
   "execution_count": 9,
   "metadata": {},
   "outputs": [
    {
     "name": "stdout",
     "output_type": "stream",
     "text": [
      "País:  Japão\n"
     ]
    }
   ],
   "source": [
    "print('País: ', nomes_paises[4])"
   ]
  },
  {
   "cell_type": "code",
   "execution_count": 10,
   "metadata": {},
   "outputs": [
    {
     "name": "stdout",
     "output_type": "stream",
     "text": [
      "País:  Japão\n"
     ]
    }
   ],
   "source": [
    "print('País: ', nomes_paises[-1])"
   ]
  },
  {
   "cell_type": "code",
   "execution_count": 12,
   "metadata": {},
   "outputs": [
    {
     "name": "stdout",
     "output_type": "stream",
     "text": [
      "País:  Colômbia\n",
      "['Brasil', 'Argentina', 'China', 'Candá', 'Colômbia']\n"
     ]
    }
   ],
   "source": [
    "nomes_paises[4] = 'Colômbia'\n",
    "print('País: ', nomes_paises[4])\n",
    "print(nomes_paises)"
   ]
  },
  {
   "cell_type": "code",
   "execution_count": 14,
   "metadata": {},
   "outputs": [
    {
     "ename": "IndexError",
     "evalue": "list assignment index out of range",
     "output_type": "error",
     "traceback": [
      "\u001b[1;31m---------------------------------------------------------------------------\u001b[0m",
      "\u001b[1;31mIndexError\u001b[0m                                Traceback (most recent call last)",
      "\u001b[1;32m<ipython-input-14-f36ce9dec946>\u001b[0m in \u001b[0;36m<module>\u001b[1;34m\u001b[0m\n\u001b[1;32m----> 1\u001b[1;33m \u001b[0mnomes_paises\u001b[0m\u001b[1;33m[\u001b[0m\u001b[1;36m5\u001b[0m\u001b[1;33m]\u001b[0m \u001b[1;33m=\u001b[0m \u001b[1;34m'Chile'\u001b[0m\u001b[1;33m\u001b[0m\u001b[1;33m\u001b[0m\u001b[0m\n\u001b[0m",
      "\u001b[1;31mIndexError\u001b[0m: list assignment index out of range"
     ]
    }
   ],
   "source": [
    "nomes_paises[5] = 'Chile'"
   ]
  },
  {
   "cell_type": "code",
   "execution_count": 15,
   "metadata": {},
   "outputs": [
    {
     "name": "stdout",
     "output_type": "stream",
     "text": [
      "['Argentina', 'China']\n"
     ]
    }
   ],
   "source": [
    "print(nomes_paises[1:3])"
   ]
  },
  {
   "cell_type": "code",
   "execution_count": 16,
   "metadata": {},
   "outputs": [
    {
     "name": "stdout",
     "output_type": "stream",
     "text": [
      "['Argentina', 'China', 'Candá']\n"
     ]
    }
   ],
   "source": [
    "print(nomes_paises[1:-1])"
   ]
  },
  {
   "cell_type": "code",
   "execution_count": 17,
   "metadata": {},
   "outputs": [
    {
     "name": "stdout",
     "output_type": "stream",
     "text": [
      "['China', 'Candá', 'Colômbia']\n"
     ]
    }
   ],
   "source": [
    "print(nomes_paises[2:])"
   ]
  },
  {
   "cell_type": "code",
   "execution_count": 18,
   "metadata": {},
   "outputs": [
    {
     "name": "stdout",
     "output_type": "stream",
     "text": [
      "['Brasil', 'Argentina', 'China']\n"
     ]
    }
   ],
   "source": [
    "print(nomes_paises[:3])"
   ]
  },
  {
   "cell_type": "code",
   "execution_count": 20,
   "metadata": {},
   "outputs": [
    {
     "name": "stdout",
     "output_type": "stream",
     "text": [
      "['Brasil', 'Argentina', 'China', 'Candá', 'Colômbia']\n"
     ]
    }
   ],
   "source": [
    "print(nomes_paises[:])"
   ]
  },
  {
   "cell_type": "code",
   "execution_count": 21,
   "metadata": {},
   "outputs": [
    {
     "name": "stdout",
     "output_type": "stream",
     "text": [
      "['Brasil', 'China', 'Colômbia']\n"
     ]
    }
   ],
   "source": [
    "print(nomes_paises[::2])"
   ]
  },
  {
   "cell_type": "code",
   "execution_count": 23,
   "metadata": {},
   "outputs": [
    {
     "name": "stdout",
     "output_type": "stream",
     "text": [
      "['Colômbia', 'Candá', 'China', 'Argentina', 'Brasil']\n"
     ]
    }
   ],
   "source": [
    "print(nomes_paises[::-1])"
   ]
  },
  {
   "cell_type": "code",
   "execution_count": 38,
   "metadata": {},
   "outputs": [
    {
     "name": "stdout",
     "output_type": "stream",
     "text": [
      "True\n"
     ]
    }
   ],
   "source": [
    "print('Brasil' in nomes_paises)"
   ]
  },
  {
   "cell_type": "code",
   "execution_count": 39,
   "metadata": {},
   "outputs": [
    {
     "name": "stdout",
     "output_type": "stream",
     "text": [
      "False\n"
     ]
    }
   ],
   "source": [
    "print('Canadá' not in nomes_paises)"
   ]
  },
  {
   "cell_type": "code",
   "execution_count": 51,
   "metadata": {},
   "outputs": [],
   "source": [
    "lista_capitais = []"
   ]
  },
  {
   "cell_type": "code",
   "execution_count": 52,
   "metadata": {},
   "outputs": [
    {
     "name": "stdout",
     "output_type": "stream",
     "text": [
      "['Brasília', 'Buenos Aires', 'Pequin', 'Bogotá']\n"
     ]
    }
   ],
   "source": [
    "lista_capitais.append('Brasília')\n",
    "lista_capitais.append('Buenos Aires')\n",
    "lista_capitais.append('Pequin')\n",
    "lista_capitais.append('Bogotá')\n",
    "\n",
    "print(lista_capitais)"
   ]
  },
  {
   "cell_type": "code",
   "execution_count": 53,
   "metadata": {},
   "outputs": [
    {
     "name": "stdout",
     "output_type": "stream",
     "text": [
      "['Brasília', 'Buenos Aires', 'Paris', 'Pequin', 'Bogotá']\n"
     ]
    }
   ],
   "source": [
    "lista_capitais.insert(2, 'Paris')\n",
    "print(lista_capitais)"
   ]
  },
  {
   "cell_type": "code",
   "execution_count": 54,
   "metadata": {},
   "outputs": [
    {
     "name": "stdout",
     "output_type": "stream",
     "text": [
      "['Brasília', 'Paris', 'Pequin', 'Bogotá']\n"
     ]
    }
   ],
   "source": [
    "lista_capitais.remove('Buenos Aires')\n",
    "print(lista_capitais)"
   ]
  },
  {
   "cell_type": "code",
   "execution_count": 56,
   "metadata": {},
   "outputs": [
    {
     "name": "stdout",
     "output_type": "stream",
     "text": [
      "['Brasília', 'Paris'] Bogotá\n"
     ]
    }
   ],
   "source": [
    "removido = lista_capitais.pop(2)\n",
    "print(lista_capitais, removido)"
   ]
  },
  {
   "cell_type": "markdown",
   "metadata": {},
   "source": [
    "# Tuplas"
   ]
  },
  {
   "cell_type": "code",
   "execution_count": 61,
   "metadata": {},
   "outputs": [
    {
     "name": "stdout",
     "output_type": "stream",
     "text": [
      "('Brasil', 'Argentina', 'China', 'Canadá', 'Japão')\n"
     ]
    }
   ],
   "source": [
    "nomes_paises = ('Brasil', 'Argentina', 'China', 'Canadá', 'Japão')\n",
    "print(nomes_paises)"
   ]
  },
  {
   "cell_type": "code",
   "execution_count": 64,
   "metadata": {},
   "outputs": [
    {
     "name": "stdout",
     "output_type": "stream",
     "text": [
      "('Brasil', 'Argentina', 'China', 'Canadá', 'Japão') <class 'tuple'>\n"
     ]
    }
   ],
   "source": [
    "nomes_paises = 'Brasil', 'Argentina', 'China', 'Canadá', 'Japão'\n",
    "print(nomes_paises, type(nomes_paises))"
   ]
  },
  {
   "cell_type": "code",
   "execution_count": 66,
   "metadata": {},
   "outputs": [
    {
     "name": "stdout",
     "output_type": "stream",
     "text": [
      "('São Paulo',) <class 'tuple'>\n"
     ]
    }
   ],
   "source": [
    "nome_estado = 'São Paulo',\n",
    "print(nome_estado, type(nome_estado))"
   ]
  },
  {
   "cell_type": "code",
   "execution_count": 69,
   "metadata": {},
   "outputs": [
    {
     "data": {
      "text/plain": [
       "5"
      ]
     },
     "execution_count": 69,
     "metadata": {},
     "output_type": "execute_result"
    }
   ],
   "source": [
    "len(nomes_paises)"
   ]
  },
  {
   "cell_type": "code",
   "execution_count": 71,
   "metadata": {},
   "outputs": [
    {
     "data": {
      "text/plain": [
       "'Brasil'"
      ]
     },
     "execution_count": 71,
     "metadata": {},
     "output_type": "execute_result"
    }
   ],
   "source": [
    "nomes_paises[0]"
   ]
  },
  {
   "cell_type": "code",
   "execution_count": 73,
   "metadata": {},
   "outputs": [],
   "source": [
    "b,a,c,ca,j= nomes_paises"
   ]
  },
  {
   "cell_type": "code",
   "execution_count": 81,
   "metadata": {},
   "outputs": [
    {
     "name": "stdout",
     "output_type": "stream",
     "text": [
      "Brasil Canadá Japão\n"
     ]
    }
   ],
   "source": [
    "print(b,ca,j)"
   ]
  },
  {
   "cell_type": "code",
   "execution_count": 82,
   "metadata": {},
   "outputs": [
    {
     "name": "stdout",
     "output_type": "stream",
     "text": [
      "Brasil Argentina China Canadá Japão\n"
     ]
    }
   ],
   "source": [
    "print(*nomes_paises)"
   ]
  },
  {
   "cell_type": "markdown",
   "metadata": {},
   "source": [
    "# Exercícios"
   ]
  },
  {
   "cell_type": "code",
   "execution_count": 95,
   "metadata": {},
   "outputs": [],
   "source": [
    "# Criando uma lista vazia\n",
    "listavazia = []"
   ]
  },
  {
   "cell_type": "code",
   "execution_count": 98,
   "metadata": {},
   "outputs": [],
   "source": [
    "# Criando uma lista com alguns valores\n",
    "numeros = [1,2,7,8,9]"
   ]
  },
  {
   "cell_type": "code",
   "execution_count": 125,
   "metadata": {},
   "outputs": [
    {
     "name": "stdout",
     "output_type": "stream",
     "text": [
      "Lista:  <class 'list'>\n",
      "Indice:  14 <class 'int'>\n",
      "Indice:  Let's code <class 'str'>\n",
      "Indice:  0.1 <class 'float'>\n",
      "Indice:  True <class 'bool'>\n"
     ]
    }
   ],
   "source": [
    "#Listas podem mesclar diferentes tipos de valores.\n",
    "listamista = [14,\"Let's code\", 0.1, True]\n",
    "print('Lista: ', type(listamista))\n",
    "for i in range(4):\n",
    "    print('Indice: ',listamista[i], type(listamista[i]))"
   ]
  },
  {
   "cell_type": "code",
   "execution_count": 132,
   "metadata": {},
   "outputs": [
    {
     "name": "stdout",
     "output_type": "stream",
     "text": [
      "1\n",
      "2\n",
      "7\n",
      "8\n",
      "9\n"
     ]
    }
   ],
   "source": [
    "# Acessando cada elemento da lista através de um índice entre colchetes\n",
    "# Os Índices começam em 0\n",
    "for i in numeros:\n",
    "    print(i)"
   ]
  },
  {
   "cell_type": "code",
   "execution_count": 136,
   "metadata": {},
   "outputs": [
    {
     "name": "stdout",
     "output_type": "stream",
     "text": [
      "1\n",
      "2\n",
      "7\n",
      "8\n",
      "9\n"
     ]
    }
   ],
   "source": [
    "#Um jeito inteligente de intrabalhar com lista é utilizando loops\n",
    "indice = 0\n",
    "while indice < 5:\n",
    "    print(numeros[indice])\n",
    "    indice += 1"
   ]
  },
  {
   "cell_type": "markdown",
   "metadata": {},
   "source": [
    "### Funções"
   ]
  },
  {
   "cell_type": "raw",
   "metadata": {},
   "source": [
    "# Algumas funções podem nos ajudar a trabalhar com listas. Ao percorrermos nossa lista com um while,\n",
    "# poderíamos usar len() caso não soubéssemos o comprimento da lista\n",
    "indice = 0\n",
    "while indice < len(numeros):\n",
    "    print(numeros[indice])\n",
    "    indice+=1"
   ]
  },
  {
   "cell_type": "code",
   "execution_count": 145,
   "metadata": {},
   "outputs": [
    {
     "name": "stdout",
     "output_type": "stream",
     "text": [
      "Deseja adicionar um animal à lista (s/n)? s\n",
      "Digite o nome do animal: Pato\n",
      "Deseja adicionar um animal à lista (s/n)? s\n",
      "Digite o nome do animal: Vaca\n",
      "Deseja adicionar um animal à lista (s/n)? s\n",
      "Digite o nome do animal: Elefante\n",
      "Deseja adicionar um animal à lista (s/n)? s\n",
      "Digite o nome do animal: Boi\n",
      "Deseja adicionar um animal à lista (s/n)? S\n",
      "Digite o nome do animal: Cachorro\n",
      "Deseja adicionar um animal à lista (s/n)? s\n",
      "Digite o nome do animal: Aranha\n",
      "Deseja adicionar um animal à lista (s/n)? n\n",
      "['Pato', 'Vaca', 'Elefante', 'Boi', 'Cachorro', 'Aranha']\n"
     ]
    }
   ],
   "source": [
    "# Outra função útil é lista.append(), que coloca um elemento novo ao final da lista\n",
    "animais = []\n",
    "resposta = 's'\n",
    "while resposta == 's' or resposta == 'S':\n",
    "    resposta = input('Deseja adicionar um animal à lista (s/n)? ')\n",
    "    if (resposta == 's' or resposta == 'S'):\n",
    "        animal = input('Digite o nome do animal: ')\n",
    "        animais.append(animal) #adiciona o novo animal na lista\n",
    "print(animais)"
   ]
  },
  {
   "cell_type": "code",
   "execution_count": 147,
   "metadata": {},
   "outputs": [
    {
     "name": "stdout",
     "output_type": "stream",
     "text": [
      "Digite o animal a ser deletado da lista: Boi\n",
      "['Pato', 'Vaca', 'Elefante', 'Cachorro', 'Aranha']\n"
     ]
    }
   ],
   "source": [
    "# A função lista.remove() deleta um elemento da lista. (mas dá erro se o elemento não existir)\n",
    "animal = input('Digite o animal a ser deletado da lista: ')\n",
    "animais.remove(animal)\n",
    "print(animais)"
   ]
  },
  {
   "cell_type": "code",
   "execution_count": 149,
   "metadata": {},
   "outputs": [
    {
     "name": "stdout",
     "output_type": "stream",
     "text": [
      "['Ronaldo', 'Rivaldo', 'Ronaldo', 'Adriano']\n",
      "Quantidade de Ronaldos:  2\n"
     ]
    }
   ],
   "source": [
    "# A função count() conta quantas vezes um elemento aparece\n",
    "jogadores = ['Ronaldo', 'Rivaldo', 'Ronaldo', 'Adriano']\n",
    "ronaldos = jogadores.count('Ronaldo')\n",
    "print(jogadores)\n",
    "print('Quantidade de Ronaldos: ', ronaldos)"
   ]
  },
  {
   "cell_type": "code",
   "execution_count": 151,
   "metadata": {},
   "outputs": [
    {
     "name": "stdout",
     "output_type": "stream",
     "text": [
      "Rivaldo está na posição  1\n"
     ]
    }
   ],
   "source": [
    "# A função index() busca em um elemento e fala em qual posição ele aparece.\n",
    "rivaldo = jogadores.index('Rivaldo')\n",
    "print(\"Rivaldo está na posição \", rivaldo)"
   ]
  },
  {
   "cell_type": "code",
   "execution_count": 153,
   "metadata": {},
   "outputs": [
    {
     "name": "stdout",
     "output_type": "stream",
     "text": [
      "jogadores em ordem alfabética:  ['Adriano', 'Rivaldo', 'Ronaldo', 'Ronaldo']\n"
     ]
    }
   ],
   "source": [
    "# A função sort() ordena uma lista.\n",
    "jogadores.sort()\n",
    "print(\"jogadores em ordem alfabética: \", jogadores)"
   ]
  },
  {
   "cell_type": "code",
   "execution_count": 161,
   "metadata": {},
   "outputs": [
    {
     "name": "stdout",
     "output_type": "stream",
     "text": [
      "[3, 1, 4, 1, 5, 9, 2, 6, 5]\n",
      "Maior =  9  e menor =  1\n",
      "Número em ordem Crescente:  [1, 1, 2, 3, 4, 5, 5, 6, 9]\n",
      "Número em ordem Decrescente:  [9, 6, 5, 5, 4, 3, 2, 1, 1]\n"
     ]
    }
   ],
   "source": [
    "# As funções max(lista) e min(lista) obtém, respectivamente, o maior e o menor valor\n",
    "digitos = [3,1,4,1,5,9,2,6,5]\n",
    "maior = max(digitos)\n",
    "menor = min(digitos)\n",
    "print(digitos)\n",
    "print('Maior = ', maior,' e menor = ', menor )\n",
    "digitos.sort()\n",
    "print('Número em ordem Crescente: ', digitos)\n",
    "digitos.sort(reverse=True)\n",
    "print('Número em ordem Decrescente: ', digitos)"
   ]
  },
  {
   "cell_type": "markdown",
   "metadata": {},
   "source": [
    "### Tuplas"
   ]
  },
  {
   "cell_type": "code",
   "execution_count": 170,
   "metadata": {},
   "outputs": [],
   "source": [
    "# Uma tupla é uma coleção de objetos que lembra muito uma lista\n",
    "# Ao invés de colchetes, usamos parênteses para declarar as tuplas:\n",
    "numeros = (1,2,3,5,7,11)\n",
    "# Podemos declarar sem parênteses também:\n",
    "numeros = 1,2,3,5,7,11"
   ]
  },
  {
   "cell_type": "code",
   "execution_count": 172,
   "metadata": {},
   "outputs": [
    {
     "name": "stdout",
     "output_type": "stream",
     "text": [
      "7\n",
      "<class 'tuple'>\n"
     ]
    }
   ],
   "source": [
    "# Para acessar um valor, utilizamos a mesma sintaxe das listas:\n",
    "print(numeros[4])\n",
    "print(type(numeros))"
   ]
  },
  {
   "cell_type": "code",
   "execution_count": 178,
   "metadata": {},
   "outputs": [
    {
     "data": {
      "text/plain": [
       "'\\nPorém, tuplas são imutáveis: não é possível adicionar ou modificar valores.\\nDescomentar a linha abaixo provocará erro de execução:\\n'"
      ]
     },
     "execution_count": 178,
     "metadata": {},
     "output_type": "execute_result"
    }
   ],
   "source": [
    "'''\n",
    "Porém, tuplas são imutáveis: não é possível adicionar ou modificar valores.\n",
    "Descomentar a linha abaixo provocará erro de execução:\n",
    "'''\n",
    "#numeros[4] = 8"
   ]
  },
  {
   "cell_type": "code",
   "execution_count": 181,
   "metadata": {},
   "outputs": [
    {
     "name": "stdout",
     "output_type": "stream",
     "text": [
      "(3, 1, 4, 1, 5, 9, 2, 6, 5)\n"
     ]
    }
   ],
   "source": [
    "#Podemos gerar uma tupla através de uma lista...\n",
    "lista1 = [3,1,4,1,5,9,2,6,5]\n",
    "tupla1 = tuple(lista1)\n",
    "print(tupla1)"
   ]
  },
  {
   "cell_type": "code",
   "execution_count": 183,
   "metadata": {},
   "outputs": [
    {
     "name": "stdout",
     "output_type": "stream",
     "text": [
      "[1, 6, 1, 8]\n"
     ]
    }
   ],
   "source": [
    "# ... ou lista a partir de uma tupla:\n",
    "tupla2 = (1,6,1,8)\n",
    "lista2 = list(tupla2)\n",
    "print(lista2)"
   ]
  },
  {
   "cell_type": "code",
   "execution_count": 185,
   "metadata": {},
   "outputs": [
    {
     "name": "stdout",
     "output_type": "stream",
     "text": [
      "O primeiro vale:  1 e o último vale:  11\n"
     ]
    }
   ],
   "source": [
    "#Também pode-se usar o unpacking com uma tupla:\n",
    "a,b,c,d,e,f = numeros #\"desempacota\" a tupla numeros\n",
    "print('O primeiro vale: ',  a, 'e o último vale: ', f)"
   ]
  }
 ],
 "metadata": {
  "kernelspec": {
   "display_name": "Python 3",
   "language": "python",
   "name": "python3"
  },
  "language_info": {
   "codemirror_mode": {
    "name": "ipython",
    "version": 3
   },
   "file_extension": ".py",
   "mimetype": "text/x-python",
   "name": "python",
   "nbconvert_exporter": "python",
   "pygments_lexer": "ipython3",
   "version": "3.8.5"
  }
 },
 "nbformat": 4,
 "nbformat_minor": 4
}

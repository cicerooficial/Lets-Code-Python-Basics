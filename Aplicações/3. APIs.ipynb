{
 "cells": [
  {
   "cell_type": "code",
   "execution_count": 1,
   "metadata": {},
   "outputs": [
    {
     "name": "stdout",
     "output_type": "stream",
     "text": [
      "Requirement already satisfied: requests in c:\\programdata\\anaconda3\\lib\\site-packages (2.24.0)\n",
      "Requirement already satisfied: certifi>=2017.4.17 in c:\\programdata\\anaconda3\\lib\\site-packages (from requests) (2020.6.20)\n",
      "Requirement already satisfied: urllib3!=1.25.0,!=1.25.1,<1.26,>=1.21.1 in c:\\programdata\\anaconda3\\lib\\site-packages (from requests) (1.25.11)\n",
      "Requirement already satisfied: idna<3,>=2.5 in c:\\programdata\\anaconda3\\lib\\site-packages (from requests) (2.10)\n",
      "Requirement already satisfied: chardet<4,>=3.0.2 in c:\\programdata\\anaconda3\\lib\\site-packages (from requests) (3.0.4)\n"
     ]
    }
   ],
   "source": [
    "!pip install requests"
   ]
  },
  {
   "cell_type": "code",
   "execution_count": 2,
   "metadata": {},
   "outputs": [],
   "source": [
    "import requests"
   ]
  },
  {
   "cell_type": "code",
   "execution_count": 3,
   "metadata": {},
   "outputs": [
    {
     "name": "stdout",
     "output_type": "stream",
     "text": [
      "200\n"
     ]
    }
   ],
   "source": [
    "url = 'https://open.er-api.com/v6/latest/USD'\n",
    "\n",
    "req = requests.get(url)\n",
    "print(req.status_code) # Se retornar código 200 está tudo OK "
   ]
  },
  {
   "cell_type": "code",
   "execution_count": 4,
   "metadata": {},
   "outputs": [
    {
     "name": "stdout",
     "output_type": "stream",
     "text": [
      "{'result': 'success', 'provider': 'https://www.exchangerate-api.com', 'documentation': 'https://www.exchangerate-api.com/docs/free', 'terms_of_use': 'https://www.exchangerate-api.com/terms', 'time_last_update_unix': 1625961751, 'time_last_update_utc': 'Sun, 11 Jul 2021 00:02:31 +0000', 'time_next_update_unix': 1626050061, 'time_next_update_utc': 'Mon, 12 Jul 2021 00:34:21 +0000', 'time_eol_unix': 0, 'base_code': 'USD', 'rates': {'USD': 1, 'AED': 3.67, 'AFN': 79.82, 'ALL': 103.74, 'AMD': 495.84, 'ANG': 1.79, 'AOA': 648.19, 'ARS': 95.94, 'AUD': 1.34, 'AWG': 1.79, 'AZN': 1.7, 'BAM': 1.65, 'BBD': 2, 'BDT': 84.77, 'BGN': 1.65, 'BHD': 0.376, 'BIF': 1969.29, 'BMD': 1, 'BND': 1.35, 'BOB': 6.87, 'BRL': 5.26, 'BSD': 1, 'BTN': 74.65, 'BWP': 10.95, 'BYN': 2.58, 'BZD': 2, 'CAD': 1.25, 'CDF': 1985.28, 'CHF': 0.915, 'CLP': 752.62, 'CNY': 6.48, 'COP': 3807.64, 'CRC': 618.28, 'CUC': 1, 'CUP': 25.75, 'CVE': 92.89, 'CZK': 21.74, 'DJF': 177.72, 'DKK': 6.29, 'DOP': 56.95, 'DZD': 134.56, 'EGP': 15.67, 'ERN': 15, 'ETB': 43.86, 'EUR': 0.842, 'FJD': 2.08, 'FKP': 0.722, 'FOK': 6.29, 'GBP': 0.722, 'GEL': 3.14, 'GGP': 0.722, 'GHS': 5.92, 'GIP': 0.722, 'GMD': 51.84, 'GNF': 9809.02, 'GTQ': 7.73, 'GYD': 208.69, 'HKD': 7.77, 'HNL': 23.83, 'HRK': 6.35, 'HTG': 93.7, 'HUF': 300.26, 'IDR': 14582.91, 'ILS': 3.28, 'IMP': 0.722, 'INR': 74.65, 'IQD': 1456.93, 'IRR': 41889.33, 'ISK': 123.47, 'JMD': 151.72, 'JOD': 0.709, 'JPY': 110.04, 'KES': 107.9, 'KGS': 84.6, 'KHR': 4067.92, 'KID': 1.34, 'KMF': 414.47, 'KRW': 1146.7, 'KWD': 0.3, 'KYD': 0.833, 'KZT': 429.7, 'LAK': 9469.58, 'LBP': 1507.5, 'LKR': 199.01, 'LRD': 171.41, 'LSL': 14.24, 'LYD': 4.5, 'MAD': 8.92, 'MDL': 18.07, 'MGA': 3761.49, 'MKD': 51.94, 'MMK': 1646.02, 'MNT': 2841.18, 'MOP': 8, 'MRU': 36.1, 'MUR': 42.48, 'MVR': 15.42, 'MWK': 807.52, 'MXN': 19.91, 'MYR': 4.19, 'MZN': 63.82, 'NAD': 14.24, 'NGN': 429.5, 'NIO': 34.98, 'NOK': 8.71, 'NPR': 119.43, 'NZD': 1.43, 'OMR': 0.384, 'PAB': 1, 'PEN': 3.96, 'PGK': 3.51, 'PHP': 50.12, 'PKR': 159.44, 'PLN': 3.83, 'PYG': 6828.12, 'QAR': 3.64, 'RON': 4.15, 'RSD': 99.58, 'RUB': 74.44, 'RWF': 1005.02, 'SAR': 3.75, 'SBD': 7.93, 'SCR': 14.21, 'SDG': 448.91, 'SEK': 8.58, 'SGD': 1.35, 'SHP': 0.722, 'SLL': 10257.29, 'SOS': 577.61, 'SRD': 20.98, 'SSP': 177.59, 'STN': 20.64, 'SYP': 1306.02, 'SZL': 14.24, 'THB': 32.57, 'TJS': 11.31, 'TMT': 3.5, 'TND': 2.77, 'TOP': 2.23, 'TRY': 8.67, 'TTD': 6.77, 'TVD': 1.34, 'TWD': 28, 'TZS': 2315.44, 'UAH': 27.27, 'UGX': 3543.02, 'UYU': 43.86, 'UZS': 10550.67, 'VES': 3273829.95, 'VND': 22973.37, 'VUV': 110.57, 'WST': 2.54, 'XAF': 552.62, 'XCD': 2.7, 'XDR': 0.703, 'XOF': 552.62, 'XPF': 100.53, 'YER': 250.23, 'ZAR': 14.24, 'ZMW': 22.64}}\n"
     ]
    }
   ],
   "source": [
    "dados = req.json()\n",
    "\n",
    "print(dados)"
   ]
  },
  {
   "cell_type": "code",
   "execution_count": 5,
   "metadata": {},
   "outputs": [
    {
     "name": "stdout",
     "output_type": "stream",
     "text": [
      "Informe o valor em reais a ser convertido:\n",
      "100\n",
      "R$100.0 em dólar vale: US$ 19.01\n"
     ]
    }
   ],
   "source": [
    "valor_reais = float(input('Informe o valor em reais a ser convertido:\\n'))\n",
    "cotacao = dados['rates']['BRL']\n",
    "print(f'R${valor_reais} em dólar vale: US$ {(valor_reais/cotacao):.2f}')"
   ]
  },
  {
   "cell_type": "markdown",
   "metadata": {},
   "source": [
    "# Exercícios"
   ]
  },
  {
   "cell_type": "code",
   "execution_count": null,
   "metadata": {},
   "outputs": [],
   "source": [
    "Application Programming Interface\n",
    "Hoje em dia é muito comum que diferentes aplicações consumam dados pela internet, muitas vezes dados providenciados por terceiros. Por exemplo, um aplicativo de entrega de alimentos pode usar dados de geolocalização do Google para localizar restaurantes próximos ao usuário e exibir a rota percorrida pelo entregador.\n",
    "\n",
    "Como as aplicações podem rodar em diferentes plataformas (Windows, Android, MacOS, iOS, um navegador de internet...), é importante estabelecer uma linguagem comum para que todos consigam consumir esses dados.\n",
    "\n",
    "Essa \"linguagem comum\" é o que chamamos de API: Application Programming Interface. A organização que disponibiliza os dados estabelece algumas \"regrinhas\" para fazermos requisições, e em contrapartida ela garante que os recursos fornecidos também seguirão certos padrões, facilitando a vida dos programadores.\n",
    "\n",
    "Portanto, quando decidimos utilizar uma API, a primeira coisa que precisamos fazer é estudar sua documentação. Vejamos alguns dos pontos mais relevantes para procurar.\n",
    "\n",
    "Todos os exemplos de requisição que mostraremos aqui podem ser colados em seu navegador ou estudados usando um requests.get no Python e imprimindo seu campo text.\n",
    "\n",
    "URI base\n",
    "Várias APIs fornecem um \"endereço base\". Todas as suas requisições incluirão esse endereço, e ao final dele nós colocamos detalhes específicos para cada um dos recursos disponíveis.\n",
    "\n",
    "Por exemplo, na AlphaVantage (https://www.alphavantage.co/), uma API de dados de bolsas de valores e criptomoedas, a URI base é:\n",
    "\n",
    "https://www.alphavantage.co/query?\n",
    "\n",
    "Após a interrogação nós colocaremos os campos para nossa consulta. Por exemplo, para fazer uma consulta sem autenticação para valores da IBM, de 5 em 5 minutos, o endereço completo fica:\n",
    "\n",
    "https://www.alphavantage.co/query?function=TIME_SERIES_INTRADAY&symbol=IBM&interval=5min&apikey=demo\n",
    "\n",
    "Note o formato com &NomeDoCampo=ValorDoCampo. Ele é bastante comum. Outro formato bastante comum é o de \"subdiretórios\".\n",
    "\n",
    "Um exemplo é a PokéAPI. A URI base é:\n",
    "\n",
    "https://pokeapi.co/api/v2/\n",
    "\n",
    "Para procurar por pokémons, adicionamos pokemon/. Em seguida, podemos colocar números (índices) ou nomes de Pokémon, como:\n",
    "\n",
    "https://pokeapi.co/api/v2/pokemon/ditto/\n",
    "\n",
    "https://pokeapi.co/api/v2/pokemon/25\n",
    "\n",
    "Se ao invés de pokémons estivéssemos interessados em tipos de pokémon, usaríamos types/ e o nome ou índice do tipo desejado:\n",
    "\n",
    "https://pokeapi.co/api/v2/type/ghost\n",
    "\n",
    "Formato\n",
    "Tipo de dado\n",
    "Algumas APIs possuem formatos fixos de dados. Outros permitem que você escolha. É comum, por exemplo, que uma API permita que você escolha entre JSON, XML, CSV e/ou outros formatos.\n",
    "\n",
    "Caso você tenha entrado no AlphaVantage e se registrado para obter uma chave (falaremos mais adiante), você pode especificar, por exemplo, que gostaria de resultados no formato CSV:\n",
    "\n",
    "https://www.alphavantage.co/query?function=TIME_SERIES_INTRADAY&symbol=IBM&interval=5min&dataformat=csv&apikey=demo\n",
    "\n",
    "Substitua \"demo\" por sua chave no exemplo acima e ele funcionará.\n",
    "\n",
    "Schema\n",
    "É bastante comum que as APIs disponibilizem um \"modelo\" genérico de como será formatado o seu JSON, XML etc para que os desenvolvedores saibam quais campos esperar e quais tipos de dados serão possíveis para cada campo. Por exemplo:\n",
    "\n",
    "{\n",
    "    'nome':string,\n",
    "    'pontuacao':integer\n",
    "}\n",
    "Autenticação\n",
    "Outro aspecto importante é a autenticação. Enquanto algumas APIs são grátis, outras são pagas. Ainda temos algumas híbridas: você pode gratuitamente acessar certos recursos, ou consumir um certo volume de dados, e acima disso você deverá pagar. Os dois modelos mais comuns de autenticação:\n",
    "\n",
    "Chave: ao fazer seu registro, você recebe uma chave que será inclusa na requisição, como é o caso do AlphaVantage.\n",
    "OAuth: um esquema um pouco mais complexo onde são combinados códigos de autorização, identificação do cliente e segredo do cliente em um POST, e o servidor cria uma sessão por um tempo limitado e fornece o ID da mesma. APIs de gigantes da internet (como Google e Facebook) costumam usar esse modelo.\n",
    "Rate limiting\n",
    "Um dado parcialmente relacionado ao item anterior. As APIs costumam limitar o número de requisições que você pode fazer em um instante de tempo (3 requisições por minuto, 10000 requisições por dia etc). Temos dois motivos:\n",
    "\n",
    "Segurança: evitar uma sobrecarga no servidor deles que possa indisponibilizar a API para todos os usuários.\n",
    "Venda de planos: várias APIs pagas possuem diferentes planos de pagamento. Os planos mais caros costumam permitir mais requisições do que os mais baratos ou gratuitos.\n",
    "Wrappers\n",
    "Algumas APIs possuem tantas buscas diferentes e os resultados podem ser tão complexos que mesmo vindo em formatos simples como JSON pode ser um pouco trabalhoso montar as requisições e isolar os dados que queremos. Por conta disso, frequentemente são fornecidas wrapper libraries: bibliotecas escritas em linguagens de programação específicas que já trazem classes e funções prontas para fazer requisições automaticamente e já quebrar o resultado em objetos fáceis de serem utilizados. Elas também costumam oferecer alguns benefícios adicionais, como caching: de tempos em tempos a base de dados é totalmente ou parcialmente baixada por completo e salva localmente, o que ajuda a economizar requisições e, consequentemente, uso de dados (bastante útil considerando em usuários de dispositivos móveis, por exemplo).\n",
    "\n",
    "Sandbox\n",
    "Várias APIs possuem no mesmo site de sua documentação uma área conhecida como sandbox, onde você pode simular requisições no próprio navegador e ver não só a resposta formatada, como informações sobre como montar aquela requisição em software.\n",
    "\n",
    "Aqui podemos observar a área de sandbox para fazer consultas de gastos por meio de cartão de pagamento do Portal da Transparência do governo federal. Note que ele mostra o schema e apresenta campos para preenchermos as buscas.\n",
    "\n",
    "\n",
    "\n",
    "E aqui, o resultado: ele gera o endereço completo para a busca baseado nos valores preenchidos nos campos e mostra a resposta formatada.\n",
    "\n",
    "\n",
    "\n",
    "Consumindo APIs em Python\n",
    "As APIs são meios de nos conectarmos a recursos na internet. Portanto, já possuímos as ferramentas na mão desde os capítulos anteriores. Você irá construir a lógica para decidir o que você irá buscar/consultar, montará uma string seguindo o formato indicado pela documentação da API (como todos os exemplos deste capítulo). Em seguida você tratará a resposta de acordo:\n",
    "\n",
    "Se for JSON, utilize o método json da própria requests.\n",
    "Se for CSV, utilize o módulo CSV estudado anteriormente.\n",
    "Se for XML, podemos utilizar o módulo BeautifulSoup, que não será estudado aqui.\n",
    "Para outros formatos, provavelmente a solução mais fácil será baixar um módulo preparado para lidar com eles.\n",
    "Descobrindo APIs: tem boas ideias e gostaria de saber se existe uma boa API para ajudar? Confira alguns bons repositórios de API organizados por categoria:\n",
    "\n",
    "https://github.com/n0shake/public-apis\n",
    "\n",
    "https://github.com/public-apis/public-apis\n",
    "\n",
    "https://any-api.com/\n",
    "\n",
    "Sites de governos costumam ter uma grande riqueza de dados também. Segue abaixo algumas sugestões (oficiais ou mantidas por voluntários) com dados do Brasil como um todo. Experimente buscar por bases de dados de sua cidade ou estado!\n",
    "\n",
    "http://www.transparencia.gov.br/swagger-ui.html\n",
    "\n",
    "http://www.dados.gov.br/\n",
    "\n",
    "https://brasil.io/home/"
   ]
  },
  {
   "cell_type": "code",
   "execution_count": null,
   "metadata": {},
   "outputs": [],
   "source": []
  }
 ],
 "metadata": {
  "kernelspec": {
   "display_name": "Python 3",
   "language": "python",
   "name": "python3"
  },
  "language_info": {
   "codemirror_mode": {
    "name": "ipython",
    "version": 3
   },
   "file_extension": ".py",
   "mimetype": "text/x-python",
   "name": "python",
   "nbconvert_exporter": "python",
   "pygments_lexer": "ipython3",
   "version": "3.8.5"
  }
 },
 "nbformat": 4,
 "nbformat_minor": 4
}
